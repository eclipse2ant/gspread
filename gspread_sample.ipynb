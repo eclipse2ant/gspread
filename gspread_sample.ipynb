{
 "cells": [
  {
   "cell_type": "code",
   "execution_count": 1,
   "id": "dbaef6e7-f6e8-42f5-805f-948e4e17ad7f",
   "metadata": {},
   "outputs": [
    {
     "name": "stdout",
     "output_type": "stream",
     "text": [
      "Requirement already satisfied: gspread in c:\\users\\tanakasy\\anaconda3\\envs\\my_env\\lib\\site-packages (5.1.1)\n",
      "Requirement already satisfied: oauth2client in c:\\users\\tanakasy\\anaconda3\\envs\\my_env\\lib\\site-packages (4.1.3)\n",
      "Requirement already satisfied: google-auth>=1.12.0 in c:\\users\\tanakasy\\anaconda3\\envs\\my_env\\lib\\site-packages (from gspread) (2.6.0)\n",
      "Requirement already satisfied: google-auth-oauthlib>=0.4.1 in c:\\users\\tanakasy\\anaconda3\\envs\\my_env\\lib\\site-packages (from gspread) (0.4.6)\n",
      "Requirement already satisfied: httplib2>=0.9.1 in c:\\users\\tanakasy\\anaconda3\\envs\\my_env\\lib\\site-packages (from oauth2client) (0.20.4)\n",
      "Requirement already satisfied: six>=1.6.1 in c:\\users\\tanakasy\\anaconda3\\envs\\my_env\\lib\\site-packages (from oauth2client) (1.16.0)\n",
      "Requirement already satisfied: pyasn1-modules>=0.0.5 in c:\\users\\tanakasy\\anaconda3\\envs\\my_env\\lib\\site-packages (from oauth2client) (0.2.8)\n",
      "Requirement already satisfied: pyasn1>=0.1.7 in c:\\users\\tanakasy\\anaconda3\\envs\\my_env\\lib\\site-packages (from oauth2client) (0.4.8)\n",
      "Requirement already satisfied: rsa>=3.1.4 in c:\\users\\tanakasy\\anaconda3\\envs\\my_env\\lib\\site-packages (from oauth2client) (4.8)\n",
      "Requirement already satisfied: cachetools<6.0,>=2.0.0 in c:\\users\\tanakasy\\anaconda3\\envs\\my_env\\lib\\site-packages (from google-auth>=1.12.0->gspread) (5.0.0)\n",
      "Requirement already satisfied: requests-oauthlib>=0.7.0 in c:\\users\\tanakasy\\anaconda3\\envs\\my_env\\lib\\site-packages (from google-auth-oauthlib>=0.4.1->gspread) (1.3.1)\n",
      "Requirement already satisfied: pyparsing!=3.0.0,!=3.0.1,!=3.0.2,!=3.0.3,<4,>=2.4.2 in c:\\users\\tanakasy\\anaconda3\\envs\\my_env\\lib\\site-packages (from httplib2>=0.9.1->oauth2client) (2.4.7)\n",
      "Requirement already satisfied: requests>=2.0.0 in c:\\users\\tanakasy\\anaconda3\\envs\\my_env\\lib\\site-packages (from requests-oauthlib>=0.7.0->google-auth-oauthlib>=0.4.1->gspread) (2.26.0)\n",
      "Requirement already satisfied: oauthlib>=3.0.0 in c:\\users\\tanakasy\\anaconda3\\envs\\my_env\\lib\\site-packages (from requests-oauthlib>=0.7.0->google-auth-oauthlib>=0.4.1->gspread) (3.2.0)\n",
      "Requirement already satisfied: certifi>=2017.4.17 in c:\\users\\tanakasy\\anaconda3\\envs\\my_env\\lib\\site-packages (from requests>=2.0.0->requests-oauthlib>=0.7.0->google-auth-oauthlib>=0.4.1->gspread) (2021.5.30)\n",
      "Requirement already satisfied: urllib3<1.27,>=1.21.1 in c:\\users\\tanakasy\\anaconda3\\envs\\my_env\\lib\\site-packages (from requests>=2.0.0->requests-oauthlib>=0.7.0->google-auth-oauthlib>=0.4.1->gspread) (1.26.6)\n",
      "Requirement already satisfied: idna<4,>=2.5 in c:\\users\\tanakasy\\anaconda3\\envs\\my_env\\lib\\site-packages (from requests>=2.0.0->requests-oauthlib>=0.7.0->google-auth-oauthlib>=0.4.1->gspread) (3.1)\n",
      "Requirement already satisfied: charset-normalizer~=2.0.0 in c:\\users\\tanakasy\\anaconda3\\envs\\my_env\\lib\\site-packages (from requests>=2.0.0->requests-oauthlib>=0.7.0->google-auth-oauthlib>=0.4.1->gspread) (2.0.0)\n"
     ]
    }
   ],
   "source": [
    "!pip install gspread oauth2client"
   ]
  },
  {
   "cell_type": "code",
   "execution_count": 2,
   "id": "b0a4ff30-36ad-4864-b1cf-0f37ea0a6b2c",
   "metadata": {},
   "outputs": [],
   "source": [
    "import gspread\n",
    "from oauth2client.service_account import ServiceAccountCredentials"
   ]
  },
  {
   "cell_type": "code",
   "execution_count": 3,
   "id": "86222acf-00fb-4e85-b330-d46ebf1f4f3f",
   "metadata": {},
   "outputs": [],
   "source": [
    "SCOPES = ['https://spreadsheets.google.com/feeds', 'https://www.googleapis.com/auth/drive']\n",
    "SERVICE_ACCOUNT_FILE = 'my-project-test-341511-463b29901330.json'"
   ]
  },
  {
   "cell_type": "code",
   "execution_count": 5,
   "id": "623b2246-ad21-4246-8646-6886a65d44d8",
   "metadata": {},
   "outputs": [],
   "source": [
    "credentials = ServiceAccountCredentials.from_json_keyfile_name(SERVICE_ACCOUNT_FILE)"
   ]
  },
  {
   "cell_type": "code",
   "execution_count": 6,
   "id": "97c95d6b-6ad4-467d-8fc4-5b226e703207",
   "metadata": {},
   "outputs": [],
   "source": [
    "gs = gspread.authorize(credentials)\n",
    "\n",
    "SPEADSHEET_KEY = '1RNHv5lmoMewA0O0LyfB5lpDLs2hFR_7gHbkIQF3yvZk'\n",
    "worksheet = gs.open_by_key(SPEADSHEET_KEY).worksheet(\"使う関数\")"
   ]
  },
  {
   "cell_type": "code",
   "execution_count": 7,
   "id": "8bca779b-fa85-40dc-bc14-be268719e6ce",
   "metadata": {},
   "outputs": [
    {
     "name": "stdout",
     "output_type": "stream",
     "text": [
      "値の合計\n"
     ]
    }
   ],
   "source": [
    "print(worksheet.acell(\"D2\").value)"
   ]
  },
  {
   "cell_type": "code",
   "execution_count": null,
   "id": "2420f0cb-7047-4dc4-a831-888ed22088b7",
   "metadata": {},
   "outputs": [],
   "source": []
  }
 ],
 "metadata": {
  "kernelspec": {
   "display_name": "Python 3 (ipykernel)",
   "language": "python",
   "name": "python3"
  },
  "language_info": {
   "codemirror_mode": {
    "name": "ipython",
    "version": 3
   },
   "file_extension": ".py",
   "mimetype": "text/x-python",
   "name": "python",
   "nbconvert_exporter": "python",
   "pygments_lexer": "ipython3",
   "version": "3.9.6"
  }
 },
 "nbformat": 4,
 "nbformat_minor": 5
}
